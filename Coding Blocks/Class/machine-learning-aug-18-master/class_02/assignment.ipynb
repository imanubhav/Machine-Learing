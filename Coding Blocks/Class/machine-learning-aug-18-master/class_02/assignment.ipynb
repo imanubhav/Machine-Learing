{
 "cells": [
  {
   "cell_type": "code",
   "execution_count": 1,
   "metadata": {},
   "outputs": [
    {
     "data": {
      "text/plain": [
       "4"
      ]
     },
     "execution_count": 1,
     "metadata": {},
     "output_type": "execute_result"
    }
   ],
   "source": [
    "lis = [1,2,3,4]\n",
    "len(lis)"
   ]
  },
  {
   "cell_type": "code",
   "execution_count": 2,
   "metadata": {},
   "outputs": [
    {
     "data": {
      "text/plain": [
       "[]"
      ]
     },
     "execution_count": 2,
     "metadata": {},
     "output_type": "execute_result"
    }
   ],
   "source": [
    "some_list = list()\n",
    "some_list"
   ]
  },
  {
   "cell_type": "code",
   "execution_count": 3,
   "metadata": {},
   "outputs": [
    {
     "data": {
      "text/plain": [
       "[1, 2, 3]"
      ]
     },
     "execution_count": 3,
     "metadata": {},
     "output_type": "execute_result"
    }
   ],
   "source": [
    "some_list = list([1, 2, 3])\n",
    "some_list"
   ]
  },
  {
   "cell_type": "code",
   "execution_count": 4,
   "metadata": {},
   "outputs": [
    {
     "data": {
      "text/plain": [
       "[1, 2, 3]"
      ]
     },
     "execution_count": 4,
     "metadata": {},
     "output_type": "execute_result"
    }
   ],
   "source": [
    "some_list = [1, 2, 3]\n",
    "some_list"
   ]
  },
  {
   "cell_type": "code",
   "execution_count": 5,
   "metadata": {},
   "outputs": [],
   "source": [
    "some_list = (1, 2, 3)"
   ]
  },
  {
   "cell_type": "code",
   "execution_count": 6,
   "metadata": {},
   "outputs": [],
   "source": [
    "s = [1, 3, 2, 1, 5, 3, 9]"
   ]
  },
  {
   "cell_type": "code",
   "execution_count": 7,
   "metadata": {},
   "outputs": [
    {
     "data": {
      "text/plain": [
       "[5, 3, 9]"
      ]
     },
     "execution_count": 7,
     "metadata": {},
     "output_type": "execute_result"
    }
   ],
   "source": [
    "s[-3:]"
   ]
  },
  {
   "cell_type": "code",
   "execution_count": 8,
   "metadata": {},
   "outputs": [],
   "source": [
    "def extendList(val, list_=[]):\n",
    "    list_.append(val)\n",
    "    return list_"
   ]
  },
  {
   "cell_type": "code",
   "execution_count": 9,
   "metadata": {},
   "outputs": [
    {
     "name": "stdout",
     "output_type": "stream",
     "text": [
      "list1 = [10, 'a']\n",
      "list2 = [123]\n",
      "list3 = [10, 'a']\n"
     ]
    }
   ],
   "source": [
    "list1 = extendList(10)\n",
    "list2 = extendList(123,[])\n",
    "list3 = extendList('a')\n",
    "\n",
    "\n",
    "print \"list1 = %s\" % list1\n",
    "print \"list2 = %s\" % list2\n",
    "print \"list3 = %s\" % list3"
   ]
  },
  {
   "cell_type": "code",
   "execution_count": 10,
   "metadata": {},
   "outputs": [],
   "source": [
    "def test(x):\n",
    "    print (x)\n",
    "    x += [5,6]\n",
    "    print (x)"
   ]
  },
  {
   "cell_type": "code",
   "execution_count": 11,
   "metadata": {},
   "outputs": [
    {
     "name": "stdout",
     "output_type": "stream",
     "text": [
      "[1, 2, 3, 4]\n",
      "[1, 2, 3, 4]\n",
      "[1, 2, 3, 4, 5, 6]\n",
      "[1, 2, 3, 4]\n"
     ]
    }
   ],
   "source": [
    "x = [1,2,3,4]\n",
    "print (x)\n",
    "test(x[:])\n",
    "print (x)"
   ]
  },
  {
   "cell_type": "code",
   "execution_count": 12,
   "metadata": {},
   "outputs": [],
   "source": [
    "class A():\n",
    "    x = 1"
   ]
  },
  {
   "cell_type": "code",
   "execution_count": 13,
   "metadata": {},
   "outputs": [
    {
     "name": "stdout",
     "output_type": "stream",
     "text": [
      "1\n"
     ]
    }
   ],
   "source": [
    "a = A()\n",
    "print a.x"
   ]
  },
  {
   "cell_type": "code",
   "execution_count": 14,
   "metadata": {},
   "outputs": [
    {
     "name": "stdout",
     "output_type": "stream",
     "text": [
      "1 140011573642808\n",
      "1 140011573642592\n",
      "1 140011573642736\n",
      "1 140011573642952\n",
      "1 140011573643024\n",
      "1 140011573643096\n",
      "1 140011573643168\n",
      "1 140011573643240\n",
      "1 140011573643312\n",
      "1 140011573643384\n"
     ]
    }
   ],
   "source": [
    "b = [A() for _ in range(10)]\n",
    "for ix in b:\n",
    "    print ix.x, id(ix)"
   ]
  },
  {
   "cell_type": "code",
   "execution_count": 15,
   "metadata": {},
   "outputs": [
    {
     "name": "stdout",
     "output_type": "stream",
     "text": [
      "1\n",
      "1\n",
      "5\n",
      "1\n",
      "1\n",
      "1\n",
      "1\n",
      "1\n",
      "1\n",
      "1\n"
     ]
    }
   ],
   "source": [
    "b[2].x = 5\n",
    "for ix in b:\n",
    "    print ix.x"
   ]
  },
  {
   "cell_type": "code",
   "execution_count": 16,
   "metadata": {},
   "outputs": [],
   "source": [
    "class Obj:\n",
    "    def __init__(self, a=0, b=1):\n",
    "        self.a = a\n",
    "        self.b = b\n",
    "    \n",
    "    def disp(self):\n",
    "        print self.a,self.b"
   ]
  },
  {
   "cell_type": "code",
   "execution_count": 17,
   "metadata": {},
   "outputs": [],
   "source": [
    "objects = [Obj(1, 2), Obj(5, 4), Obj(7, 3),Obj(11, 42), Obj(8, 0), Obj(5, 9)]"
   ]
  },
  {
   "cell_type": "code",
   "execution_count": 18,
   "metadata": {},
   "outputs": [
    {
     "data": {
      "text/plain": [
       "[<__main__.Obj instance at 0x7f56fc1c8cb0>,\n",
       " <__main__.Obj instance at 0x7f56fc1c8cf8>,\n",
       " <__main__.Obj instance at 0x7f56fc1c8bd8>,\n",
       " <__main__.Obj instance at 0x7f56fc1c8c20>,\n",
       " <__main__.Obj instance at 0x7f56fc1c8d40>,\n",
       " <__main__.Obj instance at 0x7f56fc1c8b90>]"
      ]
     },
     "execution_count": 18,
     "metadata": {},
     "output_type": "execute_result"
    }
   ],
   "source": [
    "objects = sorted(objects,key= lambda x : x.a, reverse = True)\n",
    "objects"
   ]
  },
  {
   "cell_type": "code",
   "execution_count": 19,
   "metadata": {},
   "outputs": [
    {
     "name": "stdout",
     "output_type": "stream",
     "text": [
      "11 42\n",
      "8 0\n",
      "7 3\n",
      "5 4\n",
      "5 9\n",
      "1 2\n"
     ]
    }
   ],
   "source": [
    "for ix in objects:\n",
    "     ix.disp()"
   ]
  }
 ],
 "metadata": {
  "kernelspec": {
   "display_name": "Python 3",
   "language": "python",
   "name": "python3"
  },
  "language_info": {
   "codemirror_mode": {
    "name": "ipython",
    "version": 2
   },
   "file_extension": ".py",
   "mimetype": "text/x-python",
   "name": "python",
   "nbconvert_exporter": "python",
   "pygments_lexer": "ipython2",
   "version": "2.7.12"
  }
 },
 "nbformat": 4,
 "nbformat_minor": 2
}
